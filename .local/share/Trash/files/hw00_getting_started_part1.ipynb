{
 "cells": [
  {
   "cell_type": "markdown",
   "id": "5de7bac8",
   "metadata": {},
   "source": [
    "# Assignment: Getting Started Part1\n",
    "\n",
    "## Welcome to BE 434/534 Biosystems Analytics\n",
    "\n",
    "This notebook will walk you through the initial set up required for the class. This is our first class assignment. If you get stuck, reach out for help at anytime (bhurwitz@arizona.edu).\n",
    "\n",
    "Step 1: Join the discussion on the BE434/534 slack channel (10 points)\n",
    "\n",
    "Step 2: Get an account on Github and clone the class repository (15 points)"
   ]
  },
  {
   "cell_type": "markdown",
   "id": "07ebed36",
   "metadata": {},
   "source": [
    "## Step 1: Join Slack\n",
    "\n",
    "We will be using Slack to communicate with each other as a class. Slack is a communication platform that is commonly used by software developers (and many other teams!). We will use Slack as a way for you to get quick answers to questions or kick off discussion on a given topic. You can recieve help from both me (as the instructor), or collaboratate with other classmates who might be stuggling with the same problem or idea. Let's get started!"
   ]
  },
  {
   "cell_type": "markdown",
   "id": "f41b3998",
   "metadata": {},
   "source": [
    "### Getting a free Slack account\n",
    "\n",
    "To get started, you will need to establish a free Slack account. To do this, go [here](https://slack.com/get-started#/create) and create a new account using your university email."
   ]
  },
  {
   "cell_type": "markdown",
   "id": "9aabf2a6",
   "metadata": {},
   "source": [
    "### Downloading Slack\n",
    "\n",
    "Next, you will need to install Slack on your computer and login. Download the PC version [here](https://slack.com/downloads/pc), and the Mac version [here](https://slack.com/downloads/mac). You can also download these applications from slack.com by navigating to \"Product\" in the menu bar and selecting \"Download Slack\". Once you have downloaded the application, go through the installation process and login using the account you just established."
   ]
  },
  {
   "cell_type": "markdown",
   "id": "69131f01",
   "metadata": {},
   "source": [
    "### The 2024 Biosystems Analytics Workspace\n",
    "\n",
    "As part of this class, we will all work together transparently in the 2024 Biosystems Analytics Slack Workspace. You can use this [invitation link](https://join.slack.com/t/arizona-su13673/shared_invite/zt-2aa8irjw0-f2~fq08R55xzwKyKO1WOgQ) to join. From the Slack menu bar, you can add this workspace by selecting \"File\" -> \"Workspace\" -> \"Sign in to another Workspace\". Alternatively you can click on the \"+\" sign on the left side of the Slack application."
   ]
  },
  {
   "cell_type": "markdown",
   "id": "7799b521",
   "metadata": {},
   "source": [
    "### Use channels for getting help on specific topics\n",
    "\n",
    "In Slack, work happens in channels, which are key to organizing ournwork into focused, easy-to-find conversations. A channel is the dedicated home for a particular topic, team, or project. In this class, we will use channels for conversations and questions related to set up, homework, and python in general. I also created a \"general\" channel for questions about the class, and \"random\" for anything else you want to discuss! Think of channels like small meetings open to anyone, where you can get help, and also help each other. In channels, anyone can ask questions or submit ideas.\n",
    "\n",
    "Channels can also be easily be searched by anyone in our workspace. So if you have a question, you can see if it has already been asked/discussed elsewhere. In this case, you can \"join the thread\" and continue to ask additional questions about this topic. Everyone benefits from seeing all of the context of the conversation and feel free to chime in when you know the answer!\n",
    "\n",
    "You can also use an @mention, to ping a particular classmate or me (your instructor; @bhurwitz). This will notify the @mention person that you have a specific question for them. "
   ]
  },
  {
   "cell_type": "markdown",
   "id": "0c49d3e7",
   "metadata": {},
   "source": [
    "### Etiquette tips for using Slack\n",
    "\n",
    "[Here](https://slack.com/blog/collaboration/etiquette-tips-in-slack) are some quick etiquette tips for using Slack and making your communication with our class effective!"
   ]
  },
  {
   "cell_type": "markdown",
   "id": "f0c71f01",
   "metadata": {},
   "source": [
    "### Exercise 1: (10 points) \n",
    "Introduce yourself on slack in the getting-started channel."
   ]
  },
  {
   "cell_type": "markdown",
   "id": "9bdcefe2",
   "metadata": {},
   "source": [
    "## Step2: Getting started with Github\n",
    "\n",
    "All of the homework assignments for this class will be submitted using GitHub, a freely available code repository. GitHub allows programmers to share and collaboratively write code together. It also allows users to track changes they make in their code and revert back to older versions if needed. As part of this class you will share your code with me (your instructor Bonnie Hurwitz) so that I can grade your assignments. If you get stuck you can also \"push\" your code to Github and I can point out errors or mistakes for you to fix.\n",
    "\n",
    "Also, all of the course materials are available to you in a GitHub repository. Below, you will learn how to make a copy of this repository and use it for writing code and turning in homework assignments."
   ]
  },
  {
   "cell_type": "markdown",
   "id": "17fe5761",
   "metadata": {},
   "source": [
    "### Creating a GitHub account\n",
    "\n",
    "First, you will need to create a GitHub account and copy the course repository into your own account.\n",
    "This will allow you to have your own copy of the assignments, a place to write programs, and a repository in Github that you can submit your assignments to.  \n",
    "\n",
    "Create your free [GitHub](http://github.com) account \n",
    "\n",
    "* Go to [GitHub](http://github.com)\n",
    "* Create a (free) user account"
   ]
  },
  {
   "cell_type": "markdown",
   "id": "c4846242",
   "metadata": {},
   "source": [
    "### Copy the course repository to your own GitHub account\n",
    "\n",
    "Go to the [course repository](https://github.com/hurwitzlab/be434-Spring2024) and click the \"Fork\" button to make a copy of the code into your own Github account.\n",
    "\n",
    "* Go to [the course repo](https://github.com/hurwitzlab/be434-Spring2024)\n",
    "* Click the \"Fork\" button (upper-right)\n",
    "* Indicate that you will use it for personal reasons\n",
    "\n",
    "![1git](./images/1_github_repo_to_fork.png \"Copying a repository\")\n",
    "\n",
    "![2git](./images/2_github_plan_for_fork.png \"Plan for the copy\")\n",
    "\n",
    "This will create a new repository in YOUR Github account. "
   ]
  },
  {
   "cell_type": "markdown",
   "id": "04c62322",
   "metadata": {},
   "source": [
    "### Share your \"copy\" of the course repository with the instructor\n",
    "\n",
    "All your assignments will be pushed to GitHub where I will pull the code to my machine for checking and grading. Add my GitHub username \"bhurwitz33\" as a Collaborator on your repo so that I can push and pull code, and then email me your GitHub username and the URL for your repo (bhurwitz@arizona.edu). At the end of the semester, you will have a public repository of code to show proficiency in Python coding and testing. \n",
    "\n",
    "* Go to the \"Settings\" for your repository called \"be434-Spring2024\"\n",
    "* Choose \"Manage Access\" from the left panel\n",
    "* Click the green \"Invite a collaborator\" button\n",
    "* Add \"bhurwitz33\" and send\n",
    "\n",
    "![3git](./images/3_github_add_a_collaborator.png \"Share your repo with instructor\")"
   ]
  },
  {
   "cell_type": "markdown",
   "id": "feac48d5",
   "metadata": {},
   "source": [
    "### \"clone\" your course repository onto the UA campus HPC\n",
    "\n",
    "We are going to use the campus high-performance compute (HPC) cluster as a place to store a copy of your code. This way, you won't need to install Python, or any of the Python modules we will use for this class on your own computer. This also helps us use a consistent coding environment through a package manager called conda. This will all make much more sense later! For now, let's get started by \"cloning\" or copying your \"be434-Spring2024\" Guthub repository onto the HPC by running the commands below:"
   ]
  },
  {
   "cell_type": "code",
   "execution_count": 1,
   "id": "8ba661ab",
   "metadata": {},
   "outputs": [],
   "source": [
    "# Run this cell to set a variable for your Github ID\n",
    "# Be sure to change YOUR_GITHUB_ID with the user name for your Github account. \n",
    "github_id = \"sabdwilson\""
   ]
  },
  {
   "cell_type": "code",
   "execution_count": 3,
   "id": "5798edbd",
   "metadata": {},
   "outputs": [
    {
     "name": "stdout",
     "output_type": "stream",
     "text": [
      "/home/u8/sdwilson\n",
      "Cloning into 'be434-Spring2024'...\n",
      "fatal: I don't handle protocol '/https'\n",
      "[Errno 2] No such file or directory: 'be434-Spring2024'\n",
      "/home/u8/sdwilson\n"
     ]
    }
   ],
   "source": [
    "# Run this cell to clone your Github class repository to your home directory on the campus HPC\n",
    "github_http = \"/https://github.com/\" + github_id + \"/be434-Spring2024.git\"\n",
    "%cd\n",
    "!git clone $github_http\n",
    "%cd be434-Spring2024"
   ]
  },
  {
   "cell_type": "markdown",
   "id": "231a64df",
   "metadata": {},
   "source": [
    "### Adding an \"upstream\" repository\n",
    "\n",
    "I might update my copy of the class Githib repository over the course of the semester, after you have made your copy. To get any updates from my repository, you will need to add my repository as an \"upstream\" source. You can do this with the following commands:"
   ]
  },
  {
   "cell_type": "code",
   "execution_count": 4,
   "id": "09329b4e",
   "metadata": {},
   "outputs": [
    {
     "name": "stdout",
     "output_type": "stream",
     "text": [
      "fatal: Not a git repository (or any parent up to mount point /home)\n",
      "Stopping at filesystem boundary (GIT_DISCOVERY_ACROSS_FILESYSTEM not set).\n",
      "fatal: Not a git repository (or any parent up to mount point /home)\n",
      "Stopping at filesystem boundary (GIT_DISCOVERY_ACROSS_FILESYSTEM not set).\n"
     ]
    }
   ],
   "source": [
    "# Run this cell to add an upstream repository (our course repository)\n",
    "!git remote add upstream https://github.com/hurwitzlab/be434-Spring2024.git\n",
    "!git pull upstream main"
   ]
  },
  {
   "cell_type": "markdown",
   "id": "1e08d12b",
   "metadata": {},
   "source": [
    "### Exercise 2 (15 points)\n",
    "\n",
    "Making changes and \"pushing\" them to your Github repository.\n",
    "\n",
    "As you complete assignments over the course of the semester, you will \"push\" your code from your home directory on the campus HPC to your repository on Github (https://github.com/YOUR_GITHUB_ID/be434-Spring2024.git), where I can grade it. Let's test this out using the commands in the cell below."
   ]
  },
  {
   "cell_type": "code",
   "execution_count": 5,
   "id": "6592befa",
   "metadata": {},
   "outputs": [
    {
     "name": "stdout",
     "output_type": "stream",
     "text": [
      "/home/u8/sdwilson\n",
      "[Errno 2] No such file or directory: 'be434-Spring2024'\n",
      "/home/u8/sdwilson\n",
      "/bin/bash: assignments/00_getting_started/test.txt: No such file or directory\n",
      "fatal: Not a git repository (or any parent up to mount point /home)\n",
      "Stopping at filesystem boundary (GIT_DISCOVERY_ACROSS_FILESYSTEM not set).\n",
      "fatal: Not a git repository (or any parent up to mount point /home)\n",
      "Stopping at filesystem boundary (GIT_DISCOVERY_ACROSS_FILESYSTEM not set).\n",
      "fatal: Not a git repository (or any parent up to mount point /home)\n",
      "Stopping at filesystem boundary (GIT_DISCOVERY_ACROSS_FILESYSTEM not set).\n"
     ]
    }
   ],
   "source": [
    "%cd\n",
    "%cd be434-Spring2024\n",
    "!echo \"Testing 1,2,3\" > assignments/00_getting_started/test.txt\n",
    "!git add assignments/00_getting_started/test.txt\n",
    "!git commit -m \"checking commit for test\"\n",
    "!git push"
   ]
  },
  {
   "cell_type": "markdown",
   "id": "ef42d0fa",
   "metadata": {},
   "source": [
    "To check to be sure your test file got \"pushed\" to Github, please open a web browser and \n",
    "navigate to your repository on Github (https://github.com/YOUR_GITHUB_ID/be434-Spring2024.git). \n",
    "\n",
    "Check to see if \"test.txt\" is in the assignments/00_getting_started folder.\n",
    "\n",
    "If so, great job! If not, contact me (bhurwitz@arizona.edu) and we will zoom to sort this out..."
   ]
  },
  {
   "cell_type": "markdown",
   "id": "8981e71e",
   "metadata": {},
   "source": [
    "Great job! You are done with this assignment.\n",
    "\n",
    "## Authors\n",
    "\n",
    "Bonnie Hurwitz <bhurwitz@arizona.edu> and Ken Youens-Clark <kyclark@gmail.com>"
   ]
  }
 ],
 "metadata": {
  "kernelspec": {
   "display_name": "Python 3 (ipykernel)",
   "language": "python",
   "name": "python3"
  },
  "language_info": {
   "codemirror_mode": {
    "name": "ipython",
    "version": 3
   },
   "file_extension": ".py",
   "mimetype": "text/x-python",
   "name": "python",
   "nbconvert_exporter": "python",
   "pygments_lexer": "ipython3",
   "version": "3.8.12"
  }
 },
 "nbformat": 4,
 "nbformat_minor": 5
}
